{
  "nbformat": 4,
  "nbformat_minor": 0,
  "metadata": {
    "colab": {
      "provenance": []
    },
    "kernelspec": {
      "name": "python3",
      "display_name": "Python 3"
    },
    "language_info": {
      "name": "python"
    }
  },
  "cells": [
    {
      "cell_type": "code",
      "execution_count": null,
      "metadata": {
        "id": "xjGBz4nVH1gv"
      },
      "outputs": [],
      "source": [
        "#mediapipe 설치\n",
        "!pip install mediapipe\n"
      ]
    },
    {
      "cell_type": "code",
      "source": [
        "# 2m 이내에 얼굴이 있는 이미지 업로드\n",
        "from google.colab import files\n",
        "uploaded_short_range = files.upload()\n",
        "\n",
        "# 5m 이내에 얼굴이 있는 이미지 업로드\n",
        "from google.colab import files\n",
        "uploaded_full_range = files.upload()\n"
      ],
      "metadata": {
        "id": "Yvi9tRTzH8gc"
      },
      "execution_count": null,
      "outputs": []
    },
    {
      "cell_type": "code",
      "source": [
        "import cv2\n",
        "from google.colab.patches import cv2_imshow\n",
        "import math\n",
        "import numpy as np\n",
        "\n",
        "# 2m 거리의 이미지 열기\n",
        "short_range_images = \n",
        "{name: cv2.imread(name) for name in uploaded_short_range.keys()}\n",
        "# 2m 거리의 이미지 미리보기\n",
        "for name, image in short_range_images.items():\n",
        "  print(name)   \n",
        "  cv2_imshow(image)\n",
        "\n",
        "# 5m 거리의 이미지 열기\n",
        "full_range_images = \n",
        "{name: cv2.imread(name) for name in uploaded_full_range.keys()}\n",
        "# 5m 거리의 이미지 미리보기\n",
        "for name, image in full_range_images.items():\n",
        "  print(name)   \n",
        "  cv2_imshow(image)"
      ],
      "metadata": {
        "id": "evnh70U2H-fq"
      },
      "execution_count": null,
      "outputs": []
    },
    {
      "cell_type": "code",
      "source": [
        "import mediapipe as mp\n",
        "mp_face_detection = mp.solutions.face_detection\n",
        "# 그리기 툴, 스펙 로드\n",
        "mp_drawing = mp.solutions.drawing_utils \n",
        "drawing_spec = mp_drawing.DrawingSpec(thickness=1, circle_radius=1)"
      ],
      "metadata": {
        "id": "NvZPnxyXIBLr"
      },
      "execution_count": null,
      "outputs": []
    },
    {
      "cell_type": "code",
      "source": [
        "# 2m 거리의 이미지에 대하여 MediaPipe Face Detection 실행\n",
        "with mp_face_detection.FaceDetection(\n",
        "    min_detection_confidence=0.5, model_selection=0) as face_detection:\n",
        "  for name, image in short_range_images.items():\n",
        "    # MediaPipe Face Detection 처리 전 BGR을 RGB로 변경\n",
        "    results = face_detection.process(cv2.cvtColor(image, cv2.COLOR_BGR2RGB))\n",
        "\n",
        "    # 얼굴 위에 결과 그림\n",
        "    print(f'Face detections of {name}:')\n",
        "    if not results.detections:\n",
        "      continue\n",
        "    annotated_image = image.copy()\n",
        "    for detection in results.detections:\n",
        "      mp_drawing.draw_detection(annotated_image, detection)\n",
        "    cv2_imshow(annotated_image)"
      ],
      "metadata": {
        "id": "PZZatVccIDKc"
      },
      "execution_count": null,
      "outputs": []
    },
    {
      "cell_type": "code",
      "source": [
        "# 5m 거리의 이미지에 대하여 MediaPipe Face Detection 실행\n",
        "with mp_face_detection.FaceDetection(\n",
        "    min_detection_confidence=0.5, model_selection=1) as face_detection:\n",
        "  for name, image in full_range_images.items():\n",
        "    # MediaPipe Face Detection 처리 전 BGR을 RGB로 변경\n",
        "    results = face_detection.process(cv2.cvtColor(image, cv2.COLOR_BGR2RGB))\n",
        "\n",
        "    # 얼굴 위에 결과 그림\n",
        "    print(f'Face detections of {name}:')\n",
        "    if not results.detections:\n",
        "      continue\n",
        "    annotated_image = image.copy()\n",
        "    for detection in results.detections:\n",
        "      mp_drawing.draw_detection(annotated_image, detection)\n",
        "    cv2_imshow(annotated_image)"
      ],
      "metadata": {
        "id": "CUNp4nzyIE8R"
      },
      "execution_count": null,
      "outputs": []
    }
  ]
}